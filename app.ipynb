{
 "cells": [
  {
   "cell_type": "code",
   "execution_count": 8,
   "metadata": {},
   "outputs": [
    {
     "name": "stdout",
     "output_type": "stream",
     "text": [
      "2+314\n",
      "Enter coefficients for the first equation (5x + 3y = 4):\n"
     ]
    }
   ],
   "source": [
    "import matplotlib.pyplot as plt\n",
    "import numpy as np\n",
    "\n",
    "\n",
    "# Function to get user input for coefficients and constants\n",
    "def get_input(equationNumber):\n",
    "    equation = input(f'Enter {equationNumber} equation ax + by = c: ')\n",
    "    equation = equation.replace('x', '')\n",
    "    equation = equation.replace('y', '')\n",
    "    equation = equation.replace('=', '')\n",
    "    print(equation)\n",
    "    return\n",
    "    # a = float(input(\"Enter the coefficient a: \"))\n",
    "    # b = float(input(\"Enter the coefficient b: \"))\n",
    "    # c = float(input(\"Enter the constant c: \"))\n",
    "    # return a, b, c\n",
    "\n",
    "get_input(\"first\")\n",
    "print(\"Enter coefficients for the first equation (5x + 3y = 4):\")\n",
    "# a1, b1, c1 = get_input(\"first\")\n",
    "\n",
    "# Get input for the second equation\n",
    "# print(\"Enter coefficients for the second equation (4x - y = 10):\")\n",
    "# a2, b2, c2 = get_input(\"second\")\n",
    "\n",
    "# # Define the range of x values\n",
    "# x = np.linspace(-10, 10, 400)\n",
    "\n",
    "\n",
    "# # Define the equations based on user input\n",
    "# def eq1(x):\n",
    "#     return (c1 - a1 * x) / b1\n",
    "\n",
    "\n",
    "# def eq2(x):\n",
    "#     return (c2 - a2 * x) / b2\n",
    "\n",
    "\n",
    "# # Generate y values\n",
    "# y1 = eq1(x)\n",
    "# y2 = eq2(x)\n",
    "\n",
    "# # Plot the equations\n",
    "# plt.figure(figsize=(10, 6))\n",
    "# plt.plot(x, y1, label=f\"{a1}x + {b1}y = {c1}\", color=\"blue\")\n",
    "# plt.plot(x, y2, label=f\"{a2}x + {b2}y = {c2}\", color=\"red\")\n",
    "\n",
    "# # Adding labels and title\n",
    "# plt.xlabel(\"x\")\n",
    "# plt.ylabel(\"y\")\n",
    "# plt.title(\"Graphs of the User-Inputted Equations\")\n",
    "# plt.axhline(0, color=\"black\", linewidth=0.5)\n",
    "# plt.axvline(0, color=\"black\", linewidth=0.5)\n",
    "# plt.grid(color=\"gray\", linestyle=\"--\", linewidth=0.5)\n",
    "# plt.legend()\n",
    "\n",
    "# # Show the plot\n",
    "# plt.show()"
   ]
  }
 ],
 "metadata": {
  "kernelspec": {
   "display_name": "venv",
   "language": "python",
   "name": "python3"
  },
  "language_info": {
   "codemirror_mode": {
    "name": "ipython",
    "version": 3
   },
   "file_extension": ".py",
   "mimetype": "text/x-python",
   "name": "python",
   "nbconvert_exporter": "python",
   "pygments_lexer": "ipython3",
   "version": "3.12.4"
  }
 },
 "nbformat": 4,
 "nbformat_minor": 2
}
